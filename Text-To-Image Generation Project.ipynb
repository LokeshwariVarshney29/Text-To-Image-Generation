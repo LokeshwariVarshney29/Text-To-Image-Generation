{
 "cells": [
  {
   "cell_type": "markdown",
   "id": "adc85e6d",
   "metadata": {},
   "source": [
    "## This command installs the diffusers library directly from its GitHub repository."
   ]
  },
  {
   "cell_type": "markdown",
   "id": "ccad8ca3",
   "metadata": {},
   "source": [
    "## The diffusers library, developed by Hugging Face, provides tools and models for diffusion-based generative tasks, such as image generation, text generation, and more. Diffusion models are a class of generative models that have gained popularity for their ability to produce high-quality synthetic data."
   ]
  },
  {
   "cell_type": "code",
   "execution_count": 1,
   "id": "6c22527e",
   "metadata": {},
   "outputs": [
    {
     "name": "stdout",
     "output_type": "stream",
     "text": [
      "Defaulting to user installation because normal site-packages is not writeable\n",
      "Collecting git+https://github.com/huggingface/diffusers\n",
      "  Cloning https://github.com/huggingface/diffusers to c:\\users\\91838\\appdata\\local\\temp\\pip-req-build-7_3hxidt\n"
     ]
    },
    {
     "name": "stderr",
     "output_type": "stream",
     "text": [
      "'DOSKEY' is not recognized as an internal or external command,\n",
      "operable program or batch file.\n",
      "WARNING: Ignoring invalid distribution -ensorflow-intel (c:\\users\\91838\\appdata\\roaming\\python\\python39\\site-packages)\n",
      "WARNING: Ignoring invalid distribution -rotobuf (c:\\users\\91838\\appdata\\roaming\\python\\python39\\site-packages)\n",
      "  ERROR: Error [WinError 2] The system cannot find the file specified while executing command git version\n",
      "ERROR: Cannot find command 'git' - do you have 'git' installed and in your PATH?\n"
     ]
    },
    {
     "name": "stdout",
     "output_type": "stream",
     "text": [
      "Defaulting to user installation because normal site-packages is not writeable\n",
      "Collecting transformers\n",
      "  Using cached transformers-4.46.2-py3-none-any.whl.metadata (44 kB)\n",
      "Collecting accelerate\n",
      "  Using cached accelerate-1.1.1-py3-none-any.whl.metadata (19 kB)\n",
      "Collecting safetensors\n",
      "  Using cached safetensors-0.4.5-cp39-none-win_amd64.whl.metadata (3.9 kB)\n",
      "Requirement already satisfied: filelock in c:\\users\\91838\\appdata\\roaming\\python\\python39\\site-packages (from transformers) (3.13.1)\n",
      "Collecting huggingface-hub<1.0,>=0.23.2 (from transformers)\n",
      "  Using cached huggingface_hub-0.26.2-py3-none-any.whl.metadata (13 kB)\n",
      "Requirement already satisfied: numpy>=1.17 in c:\\users\\91838\\appdata\\roaming\\python\\python39\\site-packages (from transformers) (1.24.4)\n",
      "Requirement already satisfied: packaging>=20.0 in c:\\programdata\\anaconda3\\lib\\site-packages (from transformers) (21.3)\n",
      "Requirement already satisfied: pyyaml>=5.1 in c:\\users\\91838\\appdata\\roaming\\python\\python39\\site-packages (from transformers) (6.0.2)\n",
      "Requirement already satisfied: regex!=2019.12.17 in c:\\programdata\\anaconda3\\lib\\site-packages (from transformers) (2022.7.9)\n",
      "Requirement already satisfied: requests in c:\\programdata\\anaconda3\\lib\\site-packages (from transformers) (2.28.1)\n",
      "Collecting tokenizers<0.21,>=0.20 (from transformers)\n",
      "  Using cached tokenizers-0.20.3-cp39-none-win_amd64.whl.metadata (6.9 kB)\n",
      "Requirement already satisfied: tqdm>=4.27 in c:\\programdata\\anaconda3\\lib\\site-packages (from transformers) (4.64.1)\n",
      "Requirement already satisfied: psutil in c:\\programdata\\anaconda3\\lib\\site-packages (from accelerate) (5.9.0)\n",
      "Requirement already satisfied: torch>=1.10.0 in c:\\users\\91838\\appdata\\roaming\\python\\python39\\site-packages (from accelerate) (2.4.1)\n",
      "Requirement already satisfied: fsspec>=2023.5.0 in c:\\users\\91838\\appdata\\roaming\\python\\python39\\site-packages (from huggingface-hub<1.0,>=0.23.2->transformers) (2024.2.0)\n",
      "Requirement already satisfied: typing-extensions>=3.7.4.3 in c:\\users\\91838\\appdata\\roaming\\python\\python39\\site-packages (from huggingface-hub<1.0,>=0.23.2->transformers) (4.9.0)\n",
      "Requirement already satisfied: pyparsing!=3.0.5,>=2.0.2 in c:\\programdata\\anaconda3\\lib\\site-packages (from packaging>=20.0->transformers) (3.0.9)\n",
      "Requirement already satisfied: sympy in c:\\programdata\\anaconda3\\lib\\site-packages (from torch>=1.10.0->accelerate) (1.10.1)\n",
      "Requirement already satisfied: networkx in c:\\programdata\\anaconda3\\lib\\site-packages (from torch>=1.10.0->accelerate) (2.8.4)\n",
      "Requirement already satisfied: jinja2 in c:\\users\\91838\\appdata\\roaming\\python\\python39\\site-packages (from torch>=1.10.0->accelerate) (3.1.3)\n",
      "Requirement already satisfied: colorama in c:\\programdata\\anaconda3\\lib\\site-packages (from tqdm>=4.27->transformers) (0.4.5)\n",
      "Requirement already satisfied: charset-normalizer<3,>=2 in c:\\programdata\\anaconda3\\lib\\site-packages (from requests->transformers) (2.0.4)\n",
      "Requirement already satisfied: idna<4,>=2.5 in c:\\users\\91838\\appdata\\roaming\\python\\python39\\site-packages (from requests->transformers) (2.10)\n",
      "Requirement already satisfied: urllib3<1.27,>=1.21.1 in c:\\programdata\\anaconda3\\lib\\site-packages (from requests->transformers) (1.26.11)\n",
      "Requirement already satisfied: certifi>=2017.4.17 in c:\\programdata\\anaconda3\\lib\\site-packages (from requests->transformers) (2022.9.14)\n",
      "Requirement already satisfied: MarkupSafe>=2.0 in c:\\users\\91838\\appdata\\roaming\\python\\python39\\site-packages (from jinja2->torch>=1.10.0->accelerate) (2.1.5)\n",
      "Requirement already satisfied: mpmath>=0.19 in c:\\programdata\\anaconda3\\lib\\site-packages (from sympy->torch>=1.10.0->accelerate) (1.2.1)\n",
      "Downloading transformers-4.46.2-py3-none-any.whl (10.0 MB)\n",
      "   ---------------------------------------- 10.0/10.0 MB 263.3 kB/s eta 0:00:00\n",
      "Downloading accelerate-1.1.1-py3-none-any.whl (333 kB)\n",
      "Downloading safetensors-0.4.5-cp39-none-win_amd64.whl (286 kB)\n",
      "Downloading huggingface_hub-0.26.2-py3-none-any.whl (447 kB)\n",
      "Downloading tokenizers-0.20.3-cp39-none-win_amd64.whl (2.4 MB)\n",
      "   ---------------------------------------- 2.4/2.4 MB 81.6 kB/s eta 0:00:00\n",
      "Installing collected packages: safetensors, huggingface-hub, tokenizers, accelerate, transformers\n",
      "  Attempting uninstall: huggingface-hub\n",
      "    Found existing installation: huggingface-hub 0.20.3\n",
      "    Uninstalling huggingface-hub-0.20.3:\n",
      "      Successfully uninstalled huggingface-hub-0.20.3\n",
      "Successfully installed accelerate-1.1.1 huggingface-hub-0.26.2 safetensors-0.4.5 tokenizers-0.20.3 transformers-4.46.2\n"
     ]
    },
    {
     "name": "stderr",
     "output_type": "stream",
     "text": [
      "'DOSKEY' is not recognized as an internal or external command,\n",
      "operable program or batch file.\n",
      "WARNING: Ignoring invalid distribution -ensorflow-intel (c:\\users\\91838\\appdata\\roaming\\python\\python39\\site-packages)\n",
      "WARNING: Ignoring invalid distribution -rotobuf (c:\\users\\91838\\appdata\\roaming\\python\\python39\\site-packages)\n",
      "WARNING: Ignoring invalid distribution -ensorflow-intel (c:\\users\\91838\\appdata\\roaming\\python\\python39\\site-packages)\n",
      "WARNING: Ignoring invalid distribution -rotobuf (c:\\users\\91838\\appdata\\roaming\\python\\python39\\site-packages)\n",
      "  WARNING: The script huggingface-cli.exe is installed in 'C:\\Users\\91838\\AppData\\Roaming\\Python\\Python39\\Scripts' which is not on PATH.\n",
      "  Consider adding this directory to PATH or, if you prefer to suppress this warning, use --no-warn-script-location.\n",
      "  WARNING: The scripts accelerate-config.exe, accelerate-estimate-memory.exe, accelerate-launch.exe, accelerate-merge-weights.exe and accelerate.exe are installed in 'C:\\Users\\91838\\AppData\\Roaming\\Python\\Python39\\Scripts' which is not on PATH.\n",
      "  Consider adding this directory to PATH or, if you prefer to suppress this warning, use --no-warn-script-location.\n",
      "  WARNING: The script transformers-cli.exe is installed in 'C:\\Users\\91838\\AppData\\Roaming\\Python\\Python39\\Scripts' which is not on PATH.\n",
      "  Consider adding this directory to PATH or, if you prefer to suppress this warning, use --no-warn-script-location.\n",
      "WARNING: Ignoring invalid distribution -ensorflow-intel (c:\\users\\91838\\appdata\\roaming\\python\\python39\\site-packages)\n",
      "WARNING: Ignoring invalid distribution -rotobuf (c:\\users\\91838\\appdata\\roaming\\python\\python39\\site-packages)\n"
     ]
    }
   ],
   "source": [
    "!pip install git+https://github.com/huggingface/diffusers\n",
    "!pip install transformers accelerate safetensors"
   ]
  },
  {
   "cell_type": "markdown",
   "id": "a9c4b337",
   "metadata": {},
   "source": [
    "## A library by Hugging Face that provides a wide range of pre-trained transformer models for tasks in natural language processing (NLP), computer vision, and more."
   ]
  },
  {
   "cell_type": "markdown",
   "id": "e701a0a0",
   "metadata": {},
   "source": [
    "Use Cases: Text classification, translation, summarization, question answering, and many other applications."
   ]
  },
  {
   "cell_type": "markdown",
   "id": "48246369",
   "metadata": {},
   "source": [
    "Accelerate: Another Hugging Face library designed to simplify the process of training and deploying machine learning models accross different hardware setups, such as CPUs, GPUs, and TPUs. Use Cases: It helps manage distributed training, mixed precision, and other performance optimizations without requiring extensive configuration."
   ]
  },
  {
   "cell_type": "markdown",
   "id": "a2129397",
   "metadata": {},
   "source": [
    "Safetensors: Alibrary that provides a safe and efficient way to store and load tensors (multi-dimensional arrays) used in machine learning models. Advantages: It's designed to be faster and more secure compared to traditional formats like PyTorch's .pt or .pth files. safetensors ensures that loading data doesn't execute arbitrary code, which enhances security."
   ]
  },
  {
   "cell_type": "code",
   "execution_count": 2,
   "id": "83143477",
   "metadata": {},
   "outputs": [
    {
     "ename": "ModuleNotFoundError",
     "evalue": "No module named 'diffusers'",
     "output_type": "error",
     "traceback": [
      "\u001b[1;31m---------------------------------------------------------------------------\u001b[0m",
      "\u001b[1;31mModuleNotFoundError\u001b[0m                       Traceback (most recent call last)",
      "\u001b[1;32m~\\AppData\\Local\\Temp\\ipykernel_13492\\2216620406.py\u001b[0m in \u001b[0;36m<module>\u001b[1;34m\u001b[0m\n\u001b[1;32m----> 1\u001b[1;33m \u001b[1;32mfrom\u001b[0m \u001b[0mdiffusers\u001b[0m \u001b[1;32mimport\u001b[0m \u001b[0mStableDiffusionXLPipeline\u001b[0m\u001b[1;33m\u001b[0m\u001b[1;33m\u001b[0m\u001b[0m\n\u001b[0m\u001b[0;32m      2\u001b[0m \u001b[1;32mimport\u001b[0m \u001b[0mtorch\u001b[0m\u001b[1;33m\u001b[0m\u001b[1;33m\u001b[0m\u001b[0m\n\u001b[0;32m      3\u001b[0m \u001b[1;32mfrom\u001b[0m \u001b[0mtransformers\u001b[0m\u001b[1;33m.\u001b[0m\u001b[0mpipelines\u001b[0m\u001b[1;33m.\u001b[0m\u001b[0mimage_to_text\u001b[0m \u001b[1;32mimport\u001b[0m \u001b[0mImage\u001b[0m\u001b[1;33m\u001b[0m\u001b[1;33m\u001b[0m\u001b[0m\n\u001b[0;32m      4\u001b[0m \u001b[1;32mfrom\u001b[0m \u001b[0mIPython\u001b[0m\u001b[1;33m.\u001b[0m\u001b[0mdisplay\u001b[0m \u001b[1;32mimport\u001b[0m \u001b[0mdisplay\u001b[0m\u001b[1;33m\u001b[0m\u001b[1;33m\u001b[0m\u001b[0m\n",
      "\u001b[1;31mModuleNotFoundError\u001b[0m: No module named 'diffusers'"
     ]
    }
   ],
   "source": [
    "from diffusers import StableDiffusionXLPipeline\n",
    "import torch\n",
    "from transformers.pipelines.image_to_text import Image\n",
    "from IPython.display import display"
   ]
  },
  {
   "cell_type": "markdown",
   "id": "5d407d37",
   "metadata": {},
   "source": [
    "## StableDiffusionXLPipeline: This is a specific tool or model pipeline used for generating images from text descriptions using a version of the Stable Diffusion model. Essentially, it allows you to create images by simply describing them in words."
   ]
  },
  {
   "cell_type": "code",
   "execution_count": null,
   "id": "bad26dd0",
   "metadata": {},
   "outputs": [],
   "source": [
    "pipe = StableDiffusionXLPipeline.from_pretrained(\"segmind/SSD-1B\",\n",
    "                                                torch_dtype=torch.float16,\n",
    "                                                use_safetensors=True,\n",
    "                                                variant='fp16')"
   ]
  },
  {
   "cell_type": "markdown",
   "id": "a4ab00d5",
   "metadata": {},
   "source": [
    "## The code pipe.to(\"cuba\") moves the model to the GPU, allowing it to run much faster by utilizing the GPU's processing power. This is particularly important when dealing with large models like Stable Diffusion, as it significantly speeds up the processing time."
   ]
  },
  {
   "cell_type": "code",
   "execution_count": null,
   "id": "111721e5",
   "metadata": {},
   "outputs": [],
   "source": [
    "pipe.to(\"cuda\")"
   ]
  },
  {
   "cell_type": "code",
   "execution_count": null,
   "id": "0ba374d0",
   "metadata": {},
   "outputs": [],
   "source": [
    "prompt = \"An astronaut riding a green horse\"\n",
    "neg_prompt = \"ugly , blurry , poor quality\""
   ]
  },
  {
   "cell_type": "code",
   "execution_count": null,
   "id": "8c5bbf5e",
   "metadata": {},
   "outputs": [],
   "source": [
    "image = pipe(prompt = prompt ,\n",
    "            negative_prompt = neg_prompt).images[0]"
   ]
  },
  {
   "cell_type": "code",
   "execution_count": 7,
   "id": "39160bed",
   "metadata": {},
   "outputs": [],
   "source": [
    "display(image)"
   ]
  },
  {
   "cell_type": "code",
   "execution_count": 8,
   "id": "8625e64c",
   "metadata": {},
   "outputs": [],
   "source": [
    "# prompt = \"A Beautiful spanish girl looking to the camera\"\n",
    "# neg_prompt = \"poor quality , ugly , blurry , only face\""
   ]
  },
  {
   "cell_type": "code",
   "execution_count": null,
   "id": "fb35c7b8",
   "metadata": {},
   "outputs": [],
   "source": [
    "# image = pipe(prompt = prompt ,\n",
    "#             negative_prompt = neg_prompt).images[0]"
   ]
  }
 ],
 "metadata": {
  "kernelspec": {
   "display_name": "Python 3 (ipykernel)",
   "language": "python",
   "name": "python3"
  },
  "language_info": {
   "codemirror_mode": {
    "name": "ipython",
    "version": 3
   },
   "file_extension": ".py",
   "mimetype": "text/x-python",
   "name": "python",
   "nbconvert_exporter": "python",
   "pygments_lexer": "ipython3",
   "version": "3.9.13"
  },
  "latex_envs": {
   "LaTeX_envs_menu_present": true,
   "autoclose": false,
   "autocomplete": true,
   "bibliofile": "biblio.bib",
   "cite_by": "apalike",
   "current_citInitial": 1,
   "eqLabelWithNumbers": true,
   "eqNumInitial": 1,
   "hotkeys": {
    "equation": "Ctrl-E",
    "itemize": "Ctrl-I"
   },
   "labels_anchors": false,
   "latex_user_defs": false,
   "report_style_numbering": false,
   "user_envs_cfg": false
  }
 },
 "nbformat": 4,
 "nbformat_minor": 5
}
